{
 "cells": [
  {
   "cell_type": "code",
   "execution_count": 1,
   "metadata": {},
   "outputs": [],
   "source": [
    "import numpy as np\n",
    "import pandas as pd\n",
    "import sklearn\n",
    "from sklearn.model_selection import train_test_split\n",
    "from sklearn import linear_model\n",
    "import matplotlib.pyplot as plt\n"
   ]
  },
  {
   "cell_type": "code",
   "execution_count": 2,
   "metadata": {},
   "outputs": [],
   "source": [
    "class LinearRegression():\n",
    "\t\"\"\"\n",
    "    Parameters:\n",
    "    -----------\n",
    "    n_iterations: The number of training iterations the algorithm will tune the weights for.\n",
    "    learning_rate: The step length that will be used when updating the weights.\n",
    "    \"\"\"\n",
    "\tdef __init__(self, n_iterations = 1000, learning_rate = 0.01):\n",
    "\t\tself.n_iterations = n_iterations\n",
    "\t\tself.learning_rate = learning_rate\n",
    "\t\tself.w = None\n",
    "\t\tself.mse = 0\n",
    "\t\n",
    "\tdef init_weight(self, n_features):\n",
    "\t\t# Init weights all zero values\n",
    "\t\tself.w = np.zeros(n_features).reshape(-1, 1)\n",
    "\t\t\n",
    "\tdef fit(self, X, y):\n",
    "\t\n",
    "\t\t# Insert one more column value 1 for bias\n",
    "\t\tX = np.insert(X, 0, 1, axis=1)\n",
    "\t\t\n",
    "\t\tn_samples, n_features = X.shape\n",
    "\t\t\n",
    "\t\tself.training_errors = []\n",
    "\t\tself.init_weight(n_features=X.shape[1])\n",
    "\t\t\n",
    "\t\t# Do gradient descent for n_iterations\n",
    "\t\tfor i in range(self.n_iterations+1):\n",
    "\t\t\n",
    "\t\t\t#Calculate y prediction\n",
    "\t\t\ty_pred = np.dot(X, self.w)\n",
    "\t\t\t\n",
    "\t\t\t# Calculate Gradient Descent for Mean Squared Error\n",
    "\t\t\tself.mse = np.mean(0.5 * (y - y_pred)**2)\n",
    "\n",
    "\t\t\tgrad = (1/n_samples) * np.dot(X.T, (y_pred-y))\n",
    "\t\t\t\t\n",
    "\t\t\t# Update weights\n",
    "\t\t\tself.w -= self.learning_rate * grad\n",
    "\t\t\t\t\n",
    "\t\t\n",
    "\tdef predict(self, X):\n",
    "\t\tX = np.insert(X, 0, 1, axis=1)\n",
    "\t\ty_pred = X.dot(self.w)\n",
    "\t\treturn y_pred\n",
    "\t\t"
   ]
  },
  {
   "cell_type": "code",
   "execution_count": 3,
   "metadata": {},
   "outputs": [],
   "source": [
    "np.random.seed(3)"
   ]
  },
  {
   "cell_type": "code",
   "execution_count": 4,
   "metadata": {},
   "outputs": [],
   "source": [
    "df = pd.read_csv(\"Salary.csv\")\n",
    "\n",
    "# Get input values\n",
    "X = np.array(df['YearsExperience']).reshape(-1, 1)\n",
    "\n",
    "# Get output values\n",
    "y = np.array(df['Salary']).reshape(-1, 1)"
   ]
  },
  {
   "cell_type": "code",
   "execution_count": 5,
   "metadata": {},
   "outputs": [],
   "source": [
    "# Split training set and test set\n",
    "X_train, X_test, y_train, y_test = train_test_split(X, y, test_size=0.4)"
   ]
  },
  {
   "cell_type": "code",
   "execution_count": 6,
   "metadata": {},
   "outputs": [
    {
     "data": {
      "text/plain": [
       "<matplotlib.collections.PathCollection at 0x7fe6c5348c50>"
      ]
     },
     "execution_count": 6,
     "metadata": {},
     "output_type": "execute_result"
    },
    {
     "data": {
      "image/png": "[encoded data removed]",
      "text/plain": [
       "<Figure size 432x288 with 1 Axes>"
      ]
     },
     "metadata": {
      "needs_background": "light"
     },
     "output_type": "display_data"
    }
   ],
   "source": [
    "# Visualize training set\n",
    "plt.scatter(X_train, y_train)"
   ]
  },
  {
   "cell_type": "code",
   "execution_count": 7,
   "metadata": {},
   "outputs": [
    {
     "data": {
      "text/plain": [
       "array([[ 39891],\n",
       "       [139465],\n",
       "       [ 81363],\n",
       "       [101302],\n",
       "       [ 83088],\n",
       "       [ 91738],\n",
       "       [ 67938],\n",
       "       [116969],\n",
       "       [ 57081],\n",
       "       [128765],\n",
       "       [ 56642],\n",
       "       [113812],\n",
       "       [135675],\n",
       "       [ 46205]])"
      ]
     },
     "execution_count": 7,
     "metadata": {},
     "output_type": "execute_result"
    }
   ],
   "source": [
    "# Output values\n",
    "y_test"
   ]
  },
  {
   "cell_type": "code",
   "execution_count": 8,
   "metadata": {},
   "outputs": [],
   "source": [
    "# Fit training set to our model\n",
    "model = LinearRegression(n_iterations=1000, learning_rate = 0.043)\n",
    "model.fit(X_train, y_train)"
   ]
  },
  {
   "cell_type": "code",
   "execution_count": 9,
   "metadata": {},
   "outputs": [
    {
     "data": {
      "text/plain": [
       "array([[ 46724.19272127],\n",
       "       [149136.91039272],\n",
       "       [ 80257.5604544 ],\n",
       "       [ 98383.70517501],\n",
       "       [ 74819.71703822],\n",
       "       [ 88414.32557867],\n",
       "       [ 71194.48809409],\n",
       "       [112884.6209515 ],\n",
       "       [ 63944.03020585],\n",
       "       [138261.22356036],\n",
       "       [ 53068.34337348],\n",
       "       [101102.6268831 ],\n",
       "       [143699.06697654],\n",
       "       [ 38567.42759699]])"
      ]
     },
     "execution_count": 9,
     "metadata": {},
     "output_type": "execute_result"
    }
   ],
   "source": [
    "# Predict our output \n",
    "y_pred = model.predict(X_test)\n",
    "y_pred"
   ]
  },
  {
   "cell_type": "code",
   "execution_count": 10,
   "metadata": {},
   "outputs": [
    {
     "data": {
      "text/plain": [
       "[<matplotlib.lines.Line2D at 0x7fe6c4b1ccf8>]"
      ]
     },
     "execution_count": 10,
     "metadata": {},
     "output_type": "execute_result"
    },
    {
     "data": {
      "image/png": "[encoded data removed]",
      "text/plain": [
       "<Figure size 432x288 with 1 Axes>"
      ]
     },
     "metadata": {
      "needs_background": "light"
     },
     "output_type": "display_data"
    }
   ],
   "source": [
    "#Visualize test input and predict output\n",
    "plt.scatter(X_test, y_test)\n",
    "plt.plot(X_test, y_pred, color = \"red\")"
   ]
  },
  {
   "cell_type": "code",
   "execution_count": 11,
   "metadata": {},
   "outputs": [
    {
     "data": {
      "text/plain": [
       "LinearRegression(copy_X=True, fit_intercept=True, n_jobs=None, normalize=False)"
      ]
     },
     "execution_count": 11,
     "metadata": {},
     "output_type": "execute_result"
    }
   ],
   "source": [
    "# Fit training set to sklearn model\n",
    "model1 = linear_model.LinearRegression()\n",
    "model1.fit(X_train, y_train)"
   ]
  },
  {
   "cell_type": "code",
   "execution_count": 12,
   "metadata": {},
   "outputs": [
    {
     "data": {
      "text/plain": [
       "array([[ 46724.7640388 ],\n",
       "       [149136.2607045 ],\n",
       "       [ 80257.73197359],\n",
       "       [ 98383.66058699],\n",
       "       [ 74819.95338957],\n",
       "       [ 88414.39984962],\n",
       "       [ 71194.76766689],\n",
       "       [112884.4034777 ],\n",
       "       [ 63944.39622153],\n",
       "       [138260.70353646],\n",
       "       [ 53068.83905349],\n",
       "       [101102.549879  ],\n",
       "       [143698.48212048],\n",
       "       [ 38568.09616277]])"
      ]
     },
     "execution_count": 12,
     "metadata": {},
     "output_type": "execute_result"
    }
   ],
   "source": [
    "# Predict sklearn output \n",
    "y_pred1 = model1.predict(X_test)\n",
    "y_pred1"
   ]
  },
  {
   "cell_type": "code",
   "execution_count": 13,
   "metadata": {},
   "outputs": [
    {
     "name": "stdout",
     "output_type": "stream",
     "text": [
      "My model:  [[26785.4335286 ]\n",
      " [ 9063.07236031]]\n",
      "Sckit learn:  [26786.24256407] [[9062.9643067]]\n"
     ]
    }
   ],
   "source": [
    "# Compare our weights to sklearn weights\n",
    "print('My model: ', model.w)\n",
    "print('Sckit learn: ', model1.intercept_, model1.coef_)"
   ]
  },
  {
   "cell_type": "code",
   "execution_count": 14,
   "metadata": {},
   "outputs": [
    {
     "data": {
      "text/plain": [
       "[<matplotlib.lines.Line2D at 0x7fe6c4aa54e0>]"
      ]
     },
     "execution_count": 14,
     "metadata": {},
     "output_type": "execute_result"
    },
    {
     "data": {
      "image/png": "[encoded data removed]",
      "text/plain": [
       "<Figure size 432x288 with 1 Axes>"
      ]
     },
     "metadata": {
      "needs_background": "light"
     },
     "output_type": "display_data"
    }
   ],
   "source": [
    "#Visualize test input and sklearn predict output\n",
    "plt.scatter(X_test, y_test)\n",
    "plt.plot(X_test, y_pred1, color = \"black\")"
   ]
  },
  {
   "cell_type": "code",
   "execution_count": null,
   "metadata": {},
   "outputs": [],
   "source": []
  }
 ],
 "metadata": {
  "kernelspec": {
   "display_name": "Python 3",
   "language": "python",
   "name": "python3"
  },
  "language_info": {
   "codemirror_mode": {
    "name": "ipython",
    "version": 3
   },
   "file_extension": ".py",
   "mimetype": "text/x-python",
   "name": "python",
   "nbconvert_exporter": "python",
   "pygments_lexer": "ipython3",
   "version": "3.6.7"
  }
 },
 "nbformat": 4,
 "nbformat_minor": 2
}
