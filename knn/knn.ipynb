{
 "cells": [
  {
   "cell_type": "code",
   "execution_count": 33,
   "metadata": {},
   "outputs": [],
   "source": [
    "import numpy as np\n",
    "import pandas as pd\n",
    "import sklearn\n",
    "from sklearn.model_selection import train_test_split\n",
    "from sklearn import linear_model, datasets, neighbors\n",
    "import matplotlib.pyplot as plt\n",
    "from sklearn.metrics import accuracy_score\n"
   ]
  },
  {
   "cell_type": "code",
   "execution_count": 34,
   "metadata": {},
   "outputs": [],
   "source": [
    "def euclideDistance(row1, row2):\n",
    "    return np.sum((row1-row2) ** 2)"
   ]
  },
  {
   "cell_type": "code",
   "execution_count": 35,
   "metadata": {},
   "outputs": [],
   "source": [
    "class KNearestNeighbors:\n",
    "    \n",
    "    def __init__(self, k = 3):\n",
    "        '''\n",
    "        Parameters:\n",
    "            k: number of neighbor\n",
    "        '''\n",
    "        self.k = k\n",
    "    \n",
    "    def fit(self, data_train, label_train):\n",
    "        self.data_train = data_train\n",
    "        self.label_train = label_train\n",
    "        \n",
    "    def getNeighbors(self, data_test):\n",
    "        \n",
    "        # Get distance list from data test to each data train\n",
    "        distance = []\n",
    "        for i in range(len(self.data_train)):\n",
    "            d = euclideDistance(self.data_train[i], data_test)\n",
    "            distance.append((self.data_train[i], self.label_train[i], d))\n",
    "            \n",
    "        # Sort to get smallest distance data\n",
    "        distance.sort(key=lambda tup: tup[-1])\n",
    "        \n",
    "        # Select k smallest data\n",
    "        return distance[:self.k-1][:1]\n",
    "            \n",
    "        \n",
    "    def predict(self, data_test):\n",
    "        \n",
    "        label_pred = []\n",
    "        \n",
    "        for data in data_test:\n",
    "            \n",
    "            # Get k neighbors\n",
    "            neighbor = self.getNeighbors(data)\n",
    "        \n",
    "            # Get label only\n",
    "            neighbor_label = [row[1] for row in neighbor]\n",
    "        \n",
    "            # Get label with most appeared time\n",
    "            label_pred.append(max(set(neighbor_label), key=neighbor_label.count))\n",
    "            \n",
    "        return np.array(label_pred)\n",
    "        \n",
    "        "
   ]
  },
  {
   "cell_type": "code",
   "execution_count": 36,
   "metadata": {},
   "outputs": [],
   "source": [
    "np.random.seed(3)"
   ]
  },
  {
   "cell_type": "code",
   "execution_count": 37,
   "metadata": {},
   "outputs": [],
   "source": [
    "iris = datasets.load_iris()"
   ]
  },
  {
   "cell_type": "code",
   "execution_count": 38,
   "metadata": {},
   "outputs": [],
   "source": [
    "X = iris.data\n",
    "y = iris.target"
   ]
  },
  {
   "cell_type": "code",
   "execution_count": 39,
   "metadata": {},
   "outputs": [],
   "source": [
    "X_train, X_test, y_train, y_test = train_test_split(X, y, test_size = 0.4)"
   ]
  },
  {
   "cell_type": "code",
   "execution_count": 40,
   "metadata": {},
   "outputs": [],
   "source": [
    "# Our model\n",
    "model = KNearestNeighbors(k = 10)"
   ]
  },
  {
   "cell_type": "code",
   "execution_count": 41,
   "metadata": {},
   "outputs": [],
   "source": [
    "model.fit(X_train, y_train)"
   ]
  },
  {
   "cell_type": "code",
   "execution_count": 42,
   "metadata": {},
   "outputs": [],
   "source": [
    "# Predict\n",
    "y_pred = model.predict(X_test)"
   ]
  },
  {
   "cell_type": "code",
   "execution_count": 43,
   "metadata": {},
   "outputs": [],
   "source": [
    "# Sklearn model\n",
    "model1 = neighbors.KNeighborsClassifier(n_neighbors=10)"
   ]
  },
  {
   "cell_type": "code",
   "execution_count": 44,
   "metadata": {},
   "outputs": [
    {
     "data": {
      "text/plain": [
       "KNeighborsClassifier(algorithm='auto', leaf_size=30, metric='minkowski',\n",
       "                     metric_params=None, n_jobs=None, n_neighbors=10, p=2,\n",
       "                     weights='uniform')"
      ]
     },
     "execution_count": 44,
     "metadata": {},
     "output_type": "execute_result"
    }
   ],
   "source": [
    "model1.fit(X_train, y_train)"
   ]
  },
  {
   "cell_type": "code",
   "execution_count": 45,
   "metadata": {},
   "outputs": [],
   "source": [
    "# Sklearn predict\n",
    "y_pred1 = model1.predict(X_test)"
   ]
  },
  {
   "cell_type": "code",
   "execution_count": 46,
   "metadata": {},
   "outputs": [
    {
     "name": "stdout",
     "output_type": "stream",
     "text": [
      "Our output:      [0 0 0 0 0 2 1 0 2 1 1 0 1 1 2 0 2 2 2 0 2 2 2 1 0 2 2 1 1 1]\n",
      "Sklearn output:  [0 0 0 0 0 2 1 0 2 1 1 0 1 1 2 0 1 2 2 0 1 2 2 1 0 2 2 1 1 1]\n",
      "Actual output:   [0 0 0 0 0 2 1 0 2 1 1 0 1 1 2 0 1 2 2 0 2 2 2 1 0 2 2 1 1 1]\n"
     ]
    }
   ],
   "source": [
    "# Compare our output, Sklearn output and actual output\n",
    "print(\"Our output:     \", y_pred[:30])\n",
    "print(\"Sklearn output: \", y_pred1[:30])\n",
    "print(\"Actual output:  \", y_test[:30]) "
   ]
  },
  {
   "cell_type": "code",
   "execution_count": 47,
   "metadata": {},
   "outputs": [
    {
     "data": {
      "text/plain": [
       "0.9666666666666667"
      ]
     },
     "execution_count": 47,
     "metadata": {},
     "output_type": "execute_result"
    }
   ],
   "source": [
    "# Our model accuracy\n",
    "accuracy_score(y_test, y_pred)"
   ]
  },
  {
   "cell_type": "code",
   "execution_count": 48,
   "metadata": {},
   "outputs": [
    {
     "data": {
      "text/plain": [
       "0.9333333333333333"
      ]
     },
     "execution_count": 48,
     "metadata": {},
     "output_type": "execute_result"
    }
   ],
   "source": [
    "# Sklearn model accuracy\n",
    "accuracy_score(y_test, y_pred1)"
   ]
  },
  {
   "cell_type": "code",
   "execution_count": null,
   "metadata": {},
   "outputs": [],
   "source": []
  }
 ],
 "metadata": {
  "kernelspec": {
   "display_name": "Python 3",
   "language": "python",
   "name": "python3"
  },
  "language_info": {
   "codemirror_mode": {
    "name": "ipython",
    "version": 3
   },
   "file_extension": ".py",
   "mimetype": "text/x-python",
   "name": "python",
   "nbconvert_exporter": "python",
   "pygments_lexer": "ipython3",
   "version": "3.7.4"
  }
 },
 "nbformat": 4,
 "nbformat_minor": 2
}
