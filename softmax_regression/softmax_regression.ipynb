{
 "cells": [
  {
   "cell_type": "code",
   "execution_count": 1,
   "metadata": {},
   "outputs": [],
   "source": [
    "import numpy as np"
   ]
  },
  {
   "cell_type": "code",
   "execution_count": 2,
   "metadata": {},
   "outputs": [],
   "source": [
    "def softmax(z):\n",
    "    return (np.exp(z.T) / np.sum(np.exp(z), axis=1)).T\n",
    "\n",
    "\n",
    "\n",
    "class SoftmaxRegression():\n",
    "    \"\"\"\n",
    "    Parameters:\n",
    "    -----------\n",
    "    n_iterations: The number of training iterations the algorithm will tune the weights for.\n",
    "    learning_rate: The step length that will be used when updating the weights.\n",
    "    weights: The weights will be used to calculate output\n",
    "    n_labels: Number of training labels\n",
    "    loss: The loss after each iteration\n",
    "    \"\"\"\n",
    "    def __init__(self, n_iterations = 1000, learning_rate = 0.1):\n",
    "        self.n_iterations = n_iterations\n",
    "        self.learning_rate = learning_rate\n",
    "        self.weights = None\n",
    "        self.n_labels = 2\n",
    "        self.loss = np.zeros(n_iterations)\n",
    "\n",
    "\n",
    "    def init_weight(self, n_features, n_labels):\n",
    "   \n",
    "        # Init weights all zero values\n",
    "        self.weights = np.ones((n_features, n_labels))\n",
    "\n",
    "    def fit(self, X, y):\n",
    "\n",
    "        # Insert one more column value 1 for bias\n",
    "        X = np.insert(X, 0, 1, axis=1)\n",
    "\n",
    "        n_samples, n_features = X.shape\n",
    "        self.n_labels = len(np.unique(y))\n",
    "\n",
    "        self.init_weight(n_features, self.n_labels)\n",
    "\n",
    "        # One hot encoding label\n",
    "        onehot_encoder = OneHotEncoder(sparse=False)\n",
    "        y_target = onehot_encoder.fit_transform(y)\n",
    "\n",
    "   \n",
    "\n",
    "        # Do gradient descent for n_iterations\n",
    "        for i in range(self.n_iterations):\n",
    "\n",
    "            #Calculate y prediction\n",
    "            y_pred = softmax(np.dot(X, self.weights))\n",
    "\n",
    "            # Calculate Cross Entropy Loss\n",
    "            self.loss[i] = np.mean(-np.sum(np.log(y_pred) * (y_target), axis=1))\n",
    "            \n",
    "            grad = (1/n_samples) * np.dot(X.T, (y_pred-y_target))\n",
    "\n",
    "            #Update weights\n",
    "            self.weights -= self.learning_rate * grad\n",
    "\n",
    "\n",
    "    def predict(self, X):\n",
    "\n",
    "        X = np.insert(X, 0, 1, axis=1)\n",
    "\n",
    "        y_pred = X.dot(self.weights)\n",
    "\n",
    "        return np.argmax(softmax(y_pred), axis=1)\n",
    "\n"
   ]
  },
  {
   "cell_type": "code",
   "execution_count": 3,
   "metadata": {},
   "outputs": [],
   "source": [
    "import sklearn\n",
    "from sklearn.datasets import load_iris\n",
    "from sklearn.preprocessing import normalize, OneHotEncoder\n",
    "from sklearn.model_selection import train_test_split\n",
    "from sklearn.metrics import accuracy_score"
   ]
  },
  {
   "cell_type": "code",
   "execution_count": 4,
   "metadata": {},
   "outputs": [],
   "source": [
    "data = load_iris()"
   ]
  },
  {
   "cell_type": "code",
   "execution_count": 5,
   "metadata": {},
   "outputs": [],
   "source": [
    "np.random.seed(42)"
   ]
  },
  {
   "cell_type": "code",
   "execution_count": 6,
   "metadata": {},
   "outputs": [],
   "source": [
    "X = data.data\n",
    "y = data.target"
   ]
  },
  {
   "cell_type": "code",
   "execution_count": 7,
   "metadata": {},
   "outputs": [],
   "source": [
    "X = normalize(X, norm='max', axis=0)"
   ]
  },
  {
   "cell_type": "code",
   "execution_count": 8,
   "metadata": {},
   "outputs": [],
   "source": [
    "X_train, X_test, y_train, y_test = train_test_split(X, y, test_size = .3)\n",
    "\n",
    "y_train = y_train.reshape(-1, 1)"
   ]
  },
  {
   "cell_type": "code",
   "execution_count": 9,
   "metadata": {},
   "outputs": [
    {
     "name": "stderr",
     "output_type": "stream",
     "text": [
      "c:\\users\\nguyen duc\\appdata\\local\\programs\\python\\python37-32\\lib\\site-packages\\sklearn\\preprocessing\\_encoders.py:415: FutureWarning: The handling of integer data will change in version 0.22. Currently, the categories are determined based on the range [0, max(values)], while in the future they will be determined based on the unique values.\n",
      "If you want the future behaviour and silence this warning, you can specify \"categories='auto'\".\n",
      "In case you used a LabelEncoder before this OneHotEncoder to convert the categories to integers, then you can now use the OneHotEncoder directly.\n",
      "  warnings.warn(msg, FutureWarning)\n"
     ]
    }
   ],
   "source": [
    "model = SoftmaxRegression(learning_rate = 0.2)\n",
    "model.fit(X_train[:, 2:], y_train)"
   ]
  },
  {
   "cell_type": "code",
   "execution_count": 10,
   "metadata": {},
   "outputs": [],
   "source": [
    "y_pred = model.predict(X_train[:, 2:])"
   ]
  },
  {
   "cell_type": "markdown",
   "metadata": {},
   "source": [
    "Now we're gonna draw decision boundary on training set"
   ]
  },
  {
   "cell_type": "code",
   "execution_count": 11,
   "metadata": {},
   "outputs": [],
   "source": [
    "import matplotlib.pyplot as plt"
   ]
  },
  {
   "cell_type": "code",
   "execution_count": 12,
   "metadata": {},
   "outputs": [
    {
     "data": {
      "text/plain": [
       "<matplotlib.collections.PathCollection at 0xb136350>"
      ]
     },
     "execution_count": 12,
     "metadata": {},
     "output_type": "execute_result"
    },
    {
     "data": {
      "image/png": "[encoded data removed]",
      "text/plain": [
       "<Figure size 432x288 with 1 Axes>"
      ]
     },
     "metadata": {
      "needs_background": "light"
     },
     "output_type": "display_data"
    }
   ],
   "source": [
    "plt.scatter(X_train[:, 2], X_train[:, 3], c=y_train.flatten())"
   ]
  },
  {
   "cell_type": "code",
   "execution_count": 13,
   "metadata": {},
   "outputs": [
    {
     "data": {
      "text/plain": [
       "array([[ 4.79997693,  1.36514869, -3.16512562],\n",
       "       [-3.08621342,  2.13412066,  3.95209275],\n",
       "       [-3.88245043,  0.86993004,  6.01252039]])"
      ]
     },
     "execution_count": 13,
     "metadata": {},
     "output_type": "execute_result"
    }
   ],
   "source": [
    "w = model.weights\n",
    "w"
   ]
  },
  {
   "cell_type": "code",
   "execution_count": 14,
   "metadata": {},
   "outputs": [],
   "source": [
    "x1 = np.linspace(0.3, 1, 100)\n",
    "x3 = np.linspace(0.1, 0.7, 50)"
   ]
  },
  {
   "cell_type": "code",
   "execution_count": 15,
   "metadata": {},
   "outputs": [],
   "source": [
    "line1 = (-w[0, 0] - w[1, 0]*x1)/w[2, 0]\n",
    "\n",
    "line3 = (-w[0, 2] - w[1, 2]*x3)/w[2, 2]"
   ]
  },
  {
   "cell_type": "code",
   "execution_count": 16,
   "metadata": {},
   "outputs": [
    {
     "data": {
      "text/plain": [
       "[<matplotlib.lines.Line2D at 0xb1f0ad0>]"
      ]
     },
     "execution_count": 16,
     "metadata": {},
     "output_type": "execute_result"
    },
    {
     "data": {
      "image/png": "[encoded data removed]",
      "text/plain": [
       "<Figure size 432x288 with 1 Axes>"
      ]
     },
     "metadata": {
      "needs_background": "light"
     },
     "output_type": "display_data"
    }
   ],
   "source": [
    "plt.scatter(X_train[:, 2], X_train[:, 3], c=y_train.flatten())\n",
    "plt.plot(x1, line1)\n",
    "plt.plot(x3, line3)\n"
   ]
  },
  {
   "cell_type": "code",
   "execution_count": 17,
   "metadata": {},
   "outputs": [],
   "source": [
    "y_pred = model.predict(X_test[:, 2:])"
   ]
  },
  {
   "cell_type": "code",
   "execution_count": 18,
   "metadata": {},
   "outputs": [
    {
     "name": "stdout",
     "output_type": "stream",
     "text": [
      "Our model accuracy: 100.00 %\n"
     ]
    }
   ],
   "source": [
    "print(\"Our model accuracy: %.2f %%\" %(100*accuracy_score(y_test.flatten(), y_pred)))"
   ]
  },
  {
   "cell_type": "code",
   "execution_count": null,
   "metadata": {},
   "outputs": [],
   "source": []
  }
 ],
 "metadata": {
  "kernelspec": {
   "display_name": "Python 3",
   "language": "python",
   "name": "python3"
  },
  "language_info": {
   "codemirror_mode": {
    "name": "ipython",
    "version": 3
   },
   "file_extension": ".py",
   "mimetype": "text/x-python",
   "name": "python",
   "nbconvert_exporter": "python",
   "pygments_lexer": "ipython3",
   "version": "3.7.4"
  }
 },
 "nbformat": 4,
 "nbformat_minor": 4
}
