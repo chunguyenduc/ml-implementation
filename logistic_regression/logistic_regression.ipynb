{
 "cells": [
  {
   "cell_type": "code",
   "execution_count": 1,
   "metadata": {},
   "outputs": [],
   "source": [
    "import numpy as np\n",
    "import pandas as pd\n",
    "import sklearn\n",
    "from sklearn.model_selection import train_test_split\n",
    "from sklearn import linear_model\n",
    "from sklearn.metrics import accuracy_score\n",
    "from sklearn import preprocessing\n",
    "import matplotlib.pyplot as plt"
   ]
  },
  {
   "cell_type": "code",
   "execution_count": 2,
   "metadata": {},
   "outputs": [],
   "source": [
    "def sigmoid(z):\n",
    "\treturn 1.0 / (1 + np.exp(-z))\n",
    "\n",
    "def threshold(z):\n",
    "\tz = np.array([1 if z_ > 0.5 else 0 for z_ in z])\n",
    "\treturn z\n",
    "\n",
    "class LogisticRegression():\n",
    "\t\"\"\"\n",
    "    Parameters:\n",
    "    -----------\n",
    "    n_iterations: The number of training iterations the algorithm will tune the weights for.\n",
    "    learning_rate: The step length that will be used when updating the weights.\n",
    "    \"\"\"\n",
    "\tdef __init__(self, n_iterations = 1000, learning_rate = 0.01):\n",
    "\t\tself.n_iterations = n_iterations\n",
    "\t\tself.learning_rate = learning_rate\n",
    "\t\tself.w = None\n",
    "\t\tself.log_loss = 0\n",
    "\t\t\n",
    "\tdef init_weight(self, n_features):\n",
    "\t\t# Init weights all zero values\n",
    "\t\tself.w = np.ones(n_features).reshape(-1, 1)\n",
    "\t\t\n",
    "\tdef fit(self, X, y):\n",
    "\t\n",
    "\t\t# Insert one more column value 1 for bias\n",
    "\t\tX = np.insert(X, 0, 1, axis=1)\n",
    "\t\t\n",
    "\t\tn_samples, n_features = X.shape\n",
    "\t\t\n",
    "\t\tself.init_weight(n_features=X.shape[1])\n",
    "\t\t\n",
    "\t\t# Do gradient descent for n_iterations\n",
    "\t\tfor i in range(self.n_iterations+1):\n",
    "\t\t\n",
    "\t\t\t#Calculate y prediction\n",
    "\t\t\ty_pred = sigmoid(np.dot(X, self.w))\n",
    "\t\t\t\n",
    "\t\t\t# Calculate Gradient Descent for Log Loss Error\n",
    "\t\t\tself.log_loss = np.mean(np.dot(-y.T, np.log(y_pred)) - np.dot((1-y).T, np.log(1-y_pred)))\n",
    "\t\t\t\t\n",
    "\t\t\tif i % 100 == 0:\n",
    " \t\t\t\tprint(\"Cost: \", self.log_loss)\n",
    "\t\t\tgrad = (1/n_samples) * np.dot(X.T, (y_pred-y))\n",
    "\t\t\t\t\n",
    "\t\t\t#Update weights\n",
    "\t\t\tself.w -= self.learning_rate * grad\n",
    "\t\t\t\t\n",
    "\t\t\n",
    "\tdef predict(self, X):\n",
    "\t\tX = np.insert(X, 0, 1, axis=1)\n",
    "\t\ty_pred = X.dot(self.w)\n",
    "\t\treturn threshold(sigmoid(y_pred))"
   ]
  },
  {
   "cell_type": "code",
   "execution_count": 3,
   "metadata": {},
   "outputs": [],
   "source": [
    "np.random.seed(3)"
   ]
  },
  {
   "cell_type": "code",
   "execution_count": 4,
   "metadata": {},
   "outputs": [],
   "source": [
    "df = pd.read_csv(\"diabetes2.csv\")"
   ]
  },
  {
   "cell_type": "code",
   "execution_count": 5,
   "metadata": {},
   "outputs": [
    {
     "data": {
      "text/html": [
       "<div>\n",
       "<style scoped>\n",
       "    .dataframe tbody tr th:only-of-type {\n",
       "        vertical-align: middle;\n",
       "    }\n",
       "\n",
       "    .dataframe tbody tr th {\n",
       "        vertical-align: top;\n",
       "    }\n",
       "\n",
       "    .dataframe thead th {\n",
       "        text-align: right;\n",
       "    }\n",
       "</style>\n",
       "<table border=\"1\" class=\"dataframe\">\n",
       "  <thead>\n",
       "    <tr style=\"text-align: right;\">\n",
       "      <th></th>\n",
       "      <th>Pregnancies</th>\n",
       "      <th>Glucose</th>\n",
       "      <th>BloodPressure</th>\n",
       "      <th>SkinThickness</th>\n",
       "      <th>Insulin</th>\n",
       "      <th>BMI</th>\n",
       "      <th>DiabetesPedigreeFunction</th>\n",
       "      <th>Age</th>\n",
       "      <th>Outcome</th>\n",
       "    </tr>\n",
       "  </thead>\n",
       "  <tbody>\n",
       "    <tr>\n",
       "      <td>0</td>\n",
       "      <td>6</td>\n",
       "      <td>148</td>\n",
       "      <td>72</td>\n",
       "      <td>35</td>\n",
       "      <td>0</td>\n",
       "      <td>33.6</td>\n",
       "      <td>0.627</td>\n",
       "      <td>50</td>\n",
       "      <td>1</td>\n",
       "    </tr>\n",
       "    <tr>\n",
       "      <td>1</td>\n",
       "      <td>1</td>\n",
       "      <td>85</td>\n",
       "      <td>66</td>\n",
       "      <td>29</td>\n",
       "      <td>0</td>\n",
       "      <td>26.6</td>\n",
       "      <td>0.351</td>\n",
       "      <td>31</td>\n",
       "      <td>0</td>\n",
       "    </tr>\n",
       "    <tr>\n",
       "      <td>2</td>\n",
       "      <td>8</td>\n",
       "      <td>183</td>\n",
       "      <td>64</td>\n",
       "      <td>0</td>\n",
       "      <td>0</td>\n",
       "      <td>23.3</td>\n",
       "      <td>0.672</td>\n",
       "      <td>32</td>\n",
       "      <td>1</td>\n",
       "    </tr>\n",
       "    <tr>\n",
       "      <td>3</td>\n",
       "      <td>1</td>\n",
       "      <td>89</td>\n",
       "      <td>66</td>\n",
       "      <td>23</td>\n",
       "      <td>94</td>\n",
       "      <td>28.1</td>\n",
       "      <td>0.167</td>\n",
       "      <td>21</td>\n",
       "      <td>0</td>\n",
       "    </tr>\n",
       "    <tr>\n",
       "      <td>4</td>\n",
       "      <td>0</td>\n",
       "      <td>137</td>\n",
       "      <td>40</td>\n",
       "      <td>35</td>\n",
       "      <td>168</td>\n",
       "      <td>43.1</td>\n",
       "      <td>2.288</td>\n",
       "      <td>33</td>\n",
       "      <td>1</td>\n",
       "    </tr>\n",
       "  </tbody>\n",
       "</table>\n",
       "</div>"
      ],
      "text/plain": [
       "   Pregnancies  Glucose  BloodPressure  SkinThickness  Insulin   BMI  \\\n",
       "0            6      148             72             35        0  33.6   \n",
       "1            1       85             66             29        0  26.6   \n",
       "2            8      183             64              0        0  23.3   \n",
       "3            1       89             66             23       94  28.1   \n",
       "4            0      137             40             35      168  43.1   \n",
       "\n",
       "   DiabetesPedigreeFunction  Age  Outcome  \n",
       "0                     0.627   50        1  \n",
       "1                     0.351   31        0  \n",
       "2                     0.672   32        1  \n",
       "3                     0.167   21        0  \n",
       "4                     2.288   33        1  "
      ]
     },
     "execution_count": 5,
     "metadata": {},
     "output_type": "execute_result"
    }
   ],
   "source": [
    "df.head()"
   ]
  },
  {
   "cell_type": "code",
   "execution_count": 6,
   "metadata": {},
   "outputs": [],
   "source": [
    "data = df.values"
   ]
  },
  {
   "cell_type": "code",
   "execution_count": 7,
   "metadata": {},
   "outputs": [],
   "source": [
    "N, d = data.shape"
   ]
  },
  {
   "cell_type": "code",
   "execution_count": 8,
   "metadata": {},
   "outputs": [],
   "source": [
    "X = data[:, 0:d-1].reshape(-1, d-1)"
   ]
  },
  {
   "cell_type": "code",
   "execution_count": 9,
   "metadata": {},
   "outputs": [],
   "source": [
    "y = data[:, -1].reshape(-1, 1).astype(int)"
   ]
  },
  {
   "cell_type": "code",
   "execution_count": 10,
   "metadata": {},
   "outputs": [],
   "source": [
    "# Normalize grades to values between -1 and 1 for more efficient computation\n",
    "normalized_range = preprocessing.MinMaxScaler(feature_range=(-1, 1))\n",
    "\n",
    "X = normalized_range.fit_transform(X)"
   ]
  },
  {
   "cell_type": "code",
   "execution_count": 11,
   "metadata": {},
   "outputs": [],
   "source": [
    "X_train, X_test, y_train, y_test = train_test_split(X, y, test_size=0.4)"
   ]
  },
  {
   "cell_type": "code",
   "execution_count": 12,
   "metadata": {},
   "outputs": [
    {
     "name": "stdout",
     "output_type": "stream",
     "text": [
      "Cost:  272.9274922465252\n",
      "Cost:  211.783113914797\n",
      "Cost:  210.03142886749458\n",
      "Cost:  209.71680345289082\n",
      "Cost:  209.64515836009537\n",
      "Cost:  209.6269750439307\n",
      "Cost:  209.6220789283167\n",
      "Cost:  209.62071783369385\n",
      "Cost:  209.62033297113672\n",
      "Cost:  209.62022315371803\n",
      "Cost:  209.62019166170876\n"
     ]
    }
   ],
   "source": [
    "# Our model\n",
    "model = LogisticRegression(n_iterations=1000, learning_rate = 1.5)\n",
    "model.fit(X_train, y_train)"
   ]
  },
  {
   "cell_type": "code",
   "execution_count": 13,
   "metadata": {},
   "outputs": [],
   "source": [
    "# Predict\n",
    "y_pred = model.predict(X_test)"
   ]
  },
  {
   "cell_type": "code",
   "execution_count": 14,
   "metadata": {},
   "outputs": [
    {
     "name": "stdout",
     "output_type": "stream",
     "text": [
      "Our model acurracy: 76.30 %\n"
     ]
    }
   ],
   "source": [
    "print(\"Our model acurracy: %.2f %%\" %(100*accuracy_score(y_test, y_pred))) "
   ]
  },
  {
   "cell_type": "code",
   "execution_count": 15,
   "metadata": {},
   "outputs": [
    {
     "name": "stderr",
     "output_type": "stream",
     "text": [
      "c:\\users\\nguyen duc\\appdata\\local\\programs\\python\\python37-32\\lib\\site-packages\\sklearn\\linear_model\\logistic.py:432: FutureWarning: Default solver will be changed to 'lbfgs' in 0.22. Specify a solver to silence this warning.\n",
      "  FutureWarning)\n"
     ]
    },
    {
     "data": {
      "text/plain": [
       "LogisticRegression(C=1.0, class_weight=None, dual=False, fit_intercept=True,\n",
       "                   intercept_scaling=1, l1_ratio=None, max_iter=100,\n",
       "                   multi_class='warn', n_jobs=None, penalty='l2',\n",
       "                   random_state=None, solver='warn', tol=0.0001, verbose=0,\n",
       "                   warm_start=False)"
      ]
     },
     "execution_count": 15,
     "metadata": {},
     "output_type": "execute_result"
    }
   ],
   "source": [
    "# Sklearn model\n",
    "scikit_log_reg = linear_model.LogisticRegression()\n",
    "scikit_log_reg.fit(X_train,y_train.flatten())"
   ]
  },
  {
   "cell_type": "code",
   "execution_count": 16,
   "metadata": {},
   "outputs": [],
   "source": [
    "y_pred1 = scikit_log_reg.predict(X_test)"
   ]
  },
  {
   "cell_type": "code",
   "execution_count": 17,
   "metadata": {},
   "outputs": [
    {
     "name": "stdout",
     "output_type": "stream",
     "text": [
      "Actual output:         [0 1 0 1 0 0 0 0 0 0 1 0 0 1 1]\n",
      "Our model output:      [0 1 0 1 1 0 0 0 0 0 0 0 0 1 1]\n",
      "Sklearn model output:  [0 1 0 1 0 0 0 0 0 0 0 0 0 1 1]\n"
     ]
    }
   ],
   "source": [
    "# Compare actual output, our output and Sklearn output\n",
    "print(\"Actual output:        \", y_test[:15].flatten())\n",
    "print(\"Our model output:     \", y_pred[:15].flatten())\n",
    "print(\"Sklearn model output: \", y_pred1[:15])"
   ]
  },
  {
   "cell_type": "code",
   "execution_count": 18,
   "metadata": {},
   "outputs": [
    {
     "name": "stdout",
     "output_type": "stream",
     "text": [
      "Sklearn model acurracy: 75.65 %\n"
     ]
    }
   ],
   "source": [
    "print(\"Sklearn model acurracy: %.2f %%\" %(100*accuracy_score(y_test.flatten(), y_pred1))) "
   ]
  },
  {
   "cell_type": "code",
   "execution_count": 19,
   "metadata": {},
   "outputs": [
    {
     "name": "stdout",
     "output_type": "stream",
     "text": [
      "Our model intercept:  [0.29699287]\n",
      "Sklearn model intercept:  [0.25183269]\n"
     ]
    }
   ],
   "source": [
    "# Compare our intercept and Sklearn intercept\n",
    "print(\"Our model intercept: \", model.w[0])\n",
    "print(\"Sklearn model intercept: \", scikit_log_reg.intercept_)"
   ]
  },
  {
   "cell_type": "code",
   "execution_count": 22,
   "metadata": {},
   "outputs": [
    {
     "name": "stdout",
     "output_type": "stream",
     "text": [
      "Our model coefficient:  [ 1.0638862   3.227905   -0.62264114  0.29780999 -0.32481277  2.96448464\n",
      "  1.48149703  0.48861271]\n",
      "Sklearn model coefficient:  [[ 0.87371133  2.70445614 -0.42760852  0.27567786 -0.10645218  2.12436832\n",
      "   1.14279462  0.51103529]]\n"
     ]
    }
   ],
   "source": [
    "# Compare our coefficient and Sklearn coefficient\n",
    "print(\"Our model coefficient: \", model.w[1:].flatten())\n",
    "print(\"Sklearn model coefficient: \", scikit_log_reg.coef_)"
   ]
  },
  {
   "cell_type": "code",
   "execution_count": null,
   "metadata": {},
   "outputs": [],
   "source": []
  }
 ],
 "metadata": {
  "kernelspec": {
   "display_name": "Python 3",
   "language": "python",
   "name": "python3"
  },
  "language_info": {
   "codemirror_mode": {
    "name": "ipython",
    "version": 3
   },
   "file_extension": ".py",
   "mimetype": "text/x-python",
   "name": "python",
   "nbconvert_exporter": "python",
   "pygments_lexer": "ipython3",
   "version": "3.7.4"
  }
 },
 "nbformat": 4,
 "nbformat_minor": 2
}
